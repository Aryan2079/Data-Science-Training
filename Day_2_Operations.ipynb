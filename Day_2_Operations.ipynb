{
  "nbformat": 4,
  "nbformat_minor": 0,
  "metadata": {
    "colab": {
      "provenance": [],
      "authorship_tag": "ABX9TyOvtLTGdtIHCPV62GxNsmN+",
      "include_colab_link": true
    },
    "kernelspec": {
      "name": "python3",
      "display_name": "Python 3"
    },
    "language_info": {
      "name": "python"
    }
  },
  "cells": [
    {
      "cell_type": "markdown",
      "metadata": {
        "id": "view-in-github",
        "colab_type": "text"
      },
      "source": [
        "<a href=\"https://colab.research.google.com/github/Aryan2079/Data-Science-Training/blob/main/Day_2_Operations.ipynb\" target=\"_parent\"><img src=\"https://colab.research.google.com/assets/colab-badge.svg\" alt=\"Open In Colab\"/></a>"
      ]
    },
    {
      "cell_type": "markdown",
      "source": [
        "# Arithmetic Operators"
      ],
      "metadata": {
        "id": "Vh24t5COx6oh"
      }
    },
    {
      "cell_type": "code",
      "execution_count": 25,
      "metadata": {
        "colab": {
          "base_uri": "https://localhost:8080/"
        },
        "id": "VAHW3McAxwCD",
        "outputId": "5f0e9fdd-85fa-47e4-a65b-844541fcfa71"
      },
      "outputs": [
        {
          "output_type": "stream",
          "name": "stdout",
          "text": [
            "5\n",
            "1\n",
            "1.5\n",
            "1\n",
            "6\n",
            "9\n",
            "1\n"
          ]
        }
      ],
      "source": [
        "a = 3\n",
        "b = 2\n",
        "\n",
        "print(a+b) #addition\n",
        "print(a-b) #substraction\n",
        "print(a/b) #division\n",
        "print(a//b) #floor division\n",
        "print(a*b) #multiplication\n",
        "print(a**b) #exponential\n",
        "print(a%b) #modulo division\n"
      ]
    },
    {
      "cell_type": "markdown",
      "source": [
        "# String Operations In Python"
      ],
      "metadata": {
        "id": "ul8jEbaH05zZ"
      }
    },
    {
      "cell_type": "markdown",
      "source": [
        "1. string length: len()\n",
        "2. indexing: []\n",
        "3. slicing: [_:_]\n",
        "4. Concatenation: _ + _\n",
        "5. String Repetition: _*\n",
        "6. String Membership: _ in _\n",
        "7. String Iteration:\n",
        "8. String Methods: lower(), upper(), strip(),replace(),split(),title(),count() etc\n",
        "9. String Character Escaping:\n",
        "10. String Formatting: use f strings\n",
        "11. String Comparison: use operations like ==, !=, <, >, <=, >=\n",
        "\n",
        "\n"
      ],
      "metadata": {
        "id": "0a8VaEF51SZ_"
      }
    },
    {
      "cell_type": "code",
      "source": [
        "cat_name = \"ginger bread\"\n",
        "dog_name = \"shree hari ram chandra prasad kumar\"\n",
        "print(len(cat_name))\n",
        "print(cat_name[1])\n",
        "print(cat_name[7:])\n",
        "print(cat_name + ' ' + dog_name)\n",
        "print(cat_name*2)\n",
        "print(\"ginger\" in cat_name)\n",
        "\n",
        "for letter in cat_name:\n",
        "  print(letter)\n",
        "\n",
        "print(dog_name.upper())\n",
        "print(cat_name.capitalize())\n",
        "print(dog_name.title())\n",
        "print(dog_name.split())\n",
        "print(cat_name.strip())\n",
        "print(dog_name.replace('shree',\"shri\"))\n",
        "\n",
        "print(\"she said \\\"never let go\\\"\")\n",
        "\n",
        "print(dog_name.count('shree'))\n",
        "\n"
      ],
      "metadata": {
        "colab": {
          "base_uri": "https://localhost:8080/"
        },
        "id": "JvhiA1E3zqTO",
        "outputId": "4510c3d4-0450-4e94-946d-ffd6eacca3c2"
      },
      "execution_count": 42,
      "outputs": [
        {
          "output_type": "stream",
          "name": "stdout",
          "text": [
            "12\n",
            "i\n",
            "bread\n",
            "ginger bread shree hari ram chandra prasad kumar\n",
            "ginger breadginger bread\n",
            "True\n",
            "g\n",
            "i\n",
            "n\n",
            "g\n",
            "e\n",
            "r\n",
            " \n",
            "b\n",
            "r\n",
            "e\n",
            "a\n",
            "d\n",
            "SHREE HARI RAM CHANDRA PRASAD KUMAR\n",
            "Ginger bread\n",
            "Shree Hari Ram Chandra Prasad Kumar\n",
            "['shree', 'hari', 'ram', 'chandra', 'prasad', 'kumar']\n",
            "ginger bread\n",
            "shri hari ram chandra prasad kumar\n",
            "she said \"never let go\"\n",
            "1\n"
          ]
        }
      ]
    },
    {
      "cell_type": "code",
      "source": [
        "number = input('enter your: ')\n",
        "for i in range(1,10):\n",
        "  print(f\"the value of {number}*{i} is {int(number)*i}\")\n"
      ],
      "metadata": {
        "colab": {
          "base_uri": "https://localhost:8080/"
        },
        "id": "XHwUUB3l1t9v",
        "outputId": "08028e08-6ad8-4005-d4f8-e11e53580255"
      },
      "execution_count": 47,
      "outputs": [
        {
          "output_type": "stream",
          "name": "stdout",
          "text": [
            "enter your: 7\n",
            "the value of 7*1 is 7\n",
            "the value of 7*2 is 14\n",
            "the value of 7*3 is 21\n",
            "the value of 7*4 is 28\n",
            "the value of 7*5 is 35\n",
            "the value of 7*6 is 42\n",
            "the value of 7*7 is 49\n",
            "the value of 7*8 is 56\n",
            "the value of 7*9 is 63\n"
          ]
        }
      ]
    },
    {
      "cell_type": "code",
      "source": [],
      "metadata": {
        "id": "Lb0_lU3nB4Ke"
      },
      "execution_count": null,
      "outputs": []
    }
  ]
}