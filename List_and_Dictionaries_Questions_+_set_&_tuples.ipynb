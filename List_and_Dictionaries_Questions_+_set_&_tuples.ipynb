{
  "nbformat": 4,
  "nbformat_minor": 0,
  "metadata": {
    "colab": {
      "provenance": [],
      "authorship_tag": "ABX9TyOHQmtLmoK9Q+wTHGhXurJo",
      "include_colab_link": true
    },
    "kernelspec": {
      "name": "python3",
      "display_name": "Python 3"
    },
    "language_info": {
      "name": "python"
    }
  },
  "cells": [
    {
      "cell_type": "markdown",
      "metadata": {
        "id": "view-in-github",
        "colab_type": "text"
      },
      "source": [
        "<a href=\"https://colab.research.google.com/github/Aryan2079/Data-Science-Training/blob/main/List_and_Dictionaries_Questions_%2B_set_%26_tuples.ipynb\" target=\"_parent\"><img src=\"https://colab.research.google.com/assets/colab-badge.svg\" alt=\"Open In Colab\"/></a>"
      ]
    },
    {
      "cell_type": "markdown",
      "source": [
        "\n",
        "Dictionary Questions:\n",
        "\n",
        "1. Create a dictionary representing a person's information (name, age, city, and email), and then print the dictionary.\n",
        "2. Create two dictionaries representing the scores of two students in a class (use the keys \"math\" and \"science\" for subjects), and then merge these dictionaries into a single dictionary.\n",
        "\n",
        "List Questions:\n",
        "\n",
        "1. Create a list of your favorite fruits, then add a new fruit to the list and print the updated list.\n",
        "2. Create two lists, one containing the names of students and the other containing their corresponding marks. Merge these lists into a dictionary where the student names are the keys and the marks are the values.\n"
      ],
      "metadata": {
        "id": "jxxFh6ypjJPi"
      }
    },
    {
      "cell_type": "code",
      "execution_count": 1,
      "metadata": {
        "colab": {
          "base_uri": "https://localhost:8080/"
        },
        "id": "KS19QTxii8oT",
        "outputId": "63289558-13ef-4d2d-ba95-3a15b63ebcb0"
      },
      "outputs": [
        {
          "output_type": "stream",
          "name": "stdout",
          "text": [
            "{'name': 'aryan', 'age': 20, 'city': 'kathmandu', 'email': 'bhattaraiaryan78@gmail.com'}\n"
          ]
        }
      ],
      "source": [
        "demo_dict ={'name':'aryan',\n",
        "            'age':20,\n",
        "            'city':'kathmandu',\n",
        "            'email':'bhattaraiaryan78@gmail.com'}\n",
        "print(demo_dict)"
      ]
    },
    {
      "cell_type": "code",
      "source": [
        "score_student1 = {'math':50,\n",
        "                  'science':78}\n",
        "score_student2 = {'math':60,\n",
        "                  'science':90}\n",
        "\n",
        "total_score = {\n",
        "    'students_score ':[score_student1, score_student2]\n",
        "}\n",
        "print(total_score)"
      ],
      "metadata": {
        "colab": {
          "base_uri": "https://localhost:8080/"
        },
        "id": "Q6j3HAefjcmP",
        "outputId": "8cb8eb9c-d326-4c6b-c5da-86adc61f7676"
      },
      "execution_count": 8,
      "outputs": [
        {
          "output_type": "stream",
          "name": "stdout",
          "text": [
            "{'students_score ': [{'math': 50, 'science': 78}, {'math': 60, 'science': 90}]}\n"
          ]
        }
      ]
    },
    {
      "cell_type": "code",
      "source": [
        "fruits = ['apple','banana','mango']\n",
        "fruits.append('licchii')\n",
        "print(fruits)"
      ],
      "metadata": {
        "colab": {
          "base_uri": "https://localhost:8080/"
        },
        "id": "Ml8KPZUtkKzK",
        "outputId": "699d0fac-9460-4103-bd72-157c43b073cc"
      },
      "execution_count": 9,
      "outputs": [
        {
          "output_type": "stream",
          "name": "stdout",
          "text": [
            "['apple', 'banana', 'mango', 'licchii']\n"
          ]
        }
      ]
    },
    {
      "cell_type": "code",
      "source": [
        "names = ['aryan','aady','bigyan','alka']\n",
        "scores=[100,10,20,30,70]\n",
        "\n",
        "score_dict = {}\n",
        "\n",
        "for i in range(0,len(names)):\n",
        " score_dict[names[i]] = scores[i]\n",
        "\n",
        "print(score_dict)\n"
      ],
      "metadata": {
        "colab": {
          "base_uri": "https://localhost:8080/"
        },
        "id": "AXFIXCvflPOj",
        "outputId": "2025f8cd-dfca-40ef-eaae-f6ff700751c8"
      },
      "execution_count": 11,
      "outputs": [
        {
          "output_type": "stream",
          "name": "stdout",
          "text": [
            "{'aryan': 100, 'aady': 10, 'bigyan': 20, 'alka': 30}\n"
          ]
        }
      ]
    },
    {
      "cell_type": "markdown",
      "source": [
        "## a better approach to join or merge lists into a dictionaries would be as follows:\n",
        "\n",
        "by using zip and unzip"
      ],
      "metadata": {
        "id": "GhE1XmP-nl-F"
      }
    },
    {
      "cell_type": "code",
      "source": [
        "student_names = ['ram','hair','laxman']\n",
        "student_marks = [20,30,50]\n",
        "\n",
        "student_dict = dict(zip(student_names, student_marks))\n",
        "print(student_dict)"
      ],
      "metadata": {
        "colab": {
          "base_uri": "https://localhost:8080/"
        },
        "id": "UGJAuEiintgi",
        "outputId": "5a238599-ec63-4d30-df59-986772e8462d"
      },
      "execution_count": 14,
      "outputs": [
        {
          "output_type": "stream",
          "name": "stdout",
          "text": [
            "{'ram': 20, 'hair': 30, 'laxman': 50}\n"
          ]
        }
      ]
    },
    {
      "cell_type": "code",
      "source": [
        "student_list_values = student_dict.values()\n",
        "student_list_names = student_dict.keys()\n",
        "\n",
        "print(student_list_names)\n",
        "print(student_list_values)"
      ],
      "metadata": {
        "colab": {
          "base_uri": "https://localhost:8080/"
        },
        "id": "dJMztbFSoMmB",
        "outputId": "3681d1b7-0e31-46ff-b016-e3e0af1b2f89"
      },
      "execution_count": 20,
      "outputs": [
        {
          "output_type": "stream",
          "name": "stdout",
          "text": [
            "dict_keys(['ram', 'hair', 'laxman'])\n",
            "dict_values([20, 30, 50])\n"
          ]
        }
      ]
    },
    {
      "cell_type": "markdown",
      "source": [
        "u can also check all the functions that can be used by using the dir function"
      ],
      "metadata": {
        "id": "xQjGTY52mRKa"
      }
    },
    {
      "cell_type": "code",
      "source": [
        "dir(names)"
      ],
      "metadata": {
        "colab": {
          "base_uri": "https://localhost:8080/"
        },
        "id": "uTViNxe-mHNj",
        "outputId": "5d11f8ca-e12f-4bd3-9e4b-1b78effb7e22"
      },
      "execution_count": 13,
      "outputs": [
        {
          "output_type": "execute_result",
          "data": {
            "text/plain": [
              "['__add__',\n",
              " '__class__',\n",
              " '__class_getitem__',\n",
              " '__contains__',\n",
              " '__delattr__',\n",
              " '__delitem__',\n",
              " '__dir__',\n",
              " '__doc__',\n",
              " '__eq__',\n",
              " '__format__',\n",
              " '__ge__',\n",
              " '__getattribute__',\n",
              " '__getitem__',\n",
              " '__gt__',\n",
              " '__hash__',\n",
              " '__iadd__',\n",
              " '__imul__',\n",
              " '__init__',\n",
              " '__init_subclass__',\n",
              " '__iter__',\n",
              " '__le__',\n",
              " '__len__',\n",
              " '__lt__',\n",
              " '__mul__',\n",
              " '__ne__',\n",
              " '__new__',\n",
              " '__reduce__',\n",
              " '__reduce_ex__',\n",
              " '__repr__',\n",
              " '__reversed__',\n",
              " '__rmul__',\n",
              " '__setattr__',\n",
              " '__setitem__',\n",
              " '__sizeof__',\n",
              " '__str__',\n",
              " '__subclasshook__',\n",
              " 'append',\n",
              " 'clear',\n",
              " 'copy',\n",
              " 'count',\n",
              " 'extend',\n",
              " 'index',\n",
              " 'insert',\n",
              " 'pop',\n",
              " 'remove',\n",
              " 'reverse',\n",
              " 'sort']"
            ]
          },
          "metadata": {},
          "execution_count": 13
        }
      ]
    },
    {
      "cell_type": "markdown",
      "source": [
        "## TUPLE"
      ],
      "metadata": {
        "id": "N81jAm99qqO-"
      }
    },
    {
      "cell_type": "code",
      "source": [
        "A = (1,2,'APPLE','cat',5)\n"
      ],
      "metadata": {
        "id": "pZtU0x_ImQd_"
      },
      "execution_count": 21,
      "outputs": []
    },
    {
      "cell_type": "code",
      "source": [
        "dir(A)"
      ],
      "metadata": {
        "colab": {
          "base_uri": "https://localhost:8080/"
        },
        "id": "gKL07tW1q0pR",
        "outputId": "3b752dea-47ed-447f-c775-6fd8979eba3c"
      },
      "execution_count": 22,
      "outputs": [
        {
          "output_type": "execute_result",
          "data": {
            "text/plain": [
              "['__add__',\n",
              " '__class__',\n",
              " '__class_getitem__',\n",
              " '__contains__',\n",
              " '__delattr__',\n",
              " '__dir__',\n",
              " '__doc__',\n",
              " '__eq__',\n",
              " '__format__',\n",
              " '__ge__',\n",
              " '__getattribute__',\n",
              " '__getitem__',\n",
              " '__getnewargs__',\n",
              " '__gt__',\n",
              " '__hash__',\n",
              " '__init__',\n",
              " '__init_subclass__',\n",
              " '__iter__',\n",
              " '__le__',\n",
              " '__len__',\n",
              " '__lt__',\n",
              " '__mul__',\n",
              " '__ne__',\n",
              " '__new__',\n",
              " '__reduce__',\n",
              " '__reduce_ex__',\n",
              " '__repr__',\n",
              " '__rmul__',\n",
              " '__setattr__',\n",
              " '__sizeof__',\n",
              " '__str__',\n",
              " '__subclasshook__',\n",
              " 'count',\n",
              " 'index']"
            ]
          },
          "metadata": {},
          "execution_count": 22
        }
      ]
    },
    {
      "cell_type": "code",
      "source": [
        "A.count('APPLE')"
      ],
      "metadata": {
        "colab": {
          "base_uri": "https://localhost:8080/"
        },
        "id": "b93E3hnCq2TI",
        "outputId": "ac748826-048d-4324-f843-48217aebc32a"
      },
      "execution_count": 26,
      "outputs": [
        {
          "output_type": "execute_result",
          "data": {
            "text/plain": [
              "1"
            ]
          },
          "metadata": {},
          "execution_count": 26
        }
      ]
    },
    {
      "cell_type": "code",
      "source": [
        "A.index('cat')"
      ],
      "metadata": {
        "colab": {
          "base_uri": "https://localhost:8080/"
        },
        "id": "SUgr0sR6q-vd",
        "outputId": "01cd2507-f880-45ac-8272-f2f9cb90ad74"
      },
      "execution_count": 27,
      "outputs": [
        {
          "output_type": "execute_result",
          "data": {
            "text/plain": [
              "3"
            ]
          },
          "metadata": {},
          "execution_count": 27
        }
      ]
    },
    {
      "cell_type": "code",
      "source": [
        "len(A)"
      ],
      "metadata": {
        "colab": {
          "base_uri": "https://localhost:8080/"
        },
        "id": "scTgV4trrWVk",
        "outputId": "ed058f61-0e77-467c-ed7e-a2f4ba7702a3"
      },
      "execution_count": 28,
      "outputs": [
        {
          "output_type": "execute_result",
          "data": {
            "text/plain": [
              "5"
            ]
          },
          "metadata": {},
          "execution_count": 28
        }
      ]
    },
    {
      "cell_type": "markdown",
      "source": [
        "# SET"
      ],
      "metadata": {
        "id": "KEGmooI0sCxX"
      }
    },
    {
      "cell_type": "code",
      "source": [
        "setA = {1,2,2,3,4}\n",
        "setA"
      ],
      "metadata": {
        "colab": {
          "base_uri": "https://localhost:8080/"
        },
        "id": "hTG4S3Leretr",
        "outputId": "43e80ba6-a6e9-4230-e504-1e6f57acbbbf"
      },
      "execution_count": 29,
      "outputs": [
        {
          "output_type": "execute_result",
          "data": {
            "text/plain": [
              "{1, 2, 3, 4}"
            ]
          },
          "metadata": {},
          "execution_count": 29
        }
      ]
    },
    {
      "cell_type": "code",
      "source": [
        "setB = {5,5,6,7}\n",
        "setB"
      ],
      "metadata": {
        "colab": {
          "base_uri": "https://localhost:8080/"
        },
        "id": "uV1fabL5sJqG",
        "outputId": "f10ac1dc-86fd-4d0c-f9b5-def465644a86"
      },
      "execution_count": 30,
      "outputs": [
        {
          "output_type": "execute_result",
          "data": {
            "text/plain": [
              "{5, 6, 7}"
            ]
          },
          "metadata": {},
          "execution_count": 30
        }
      ]
    },
    {
      "cell_type": "code",
      "source": [
        "dir(setB)"
      ],
      "metadata": {
        "colab": {
          "base_uri": "https://localhost:8080/"
        },
        "id": "Angwr93jsUEy",
        "outputId": "4c8cfdb5-4502-4e9c-dd25-32b739b759ef"
      },
      "execution_count": 31,
      "outputs": [
        {
          "output_type": "execute_result",
          "data": {
            "text/plain": [
              "['__and__',\n",
              " '__class__',\n",
              " '__class_getitem__',\n",
              " '__contains__',\n",
              " '__delattr__',\n",
              " '__dir__',\n",
              " '__doc__',\n",
              " '__eq__',\n",
              " '__format__',\n",
              " '__ge__',\n",
              " '__getattribute__',\n",
              " '__gt__',\n",
              " '__hash__',\n",
              " '__iand__',\n",
              " '__init__',\n",
              " '__init_subclass__',\n",
              " '__ior__',\n",
              " '__isub__',\n",
              " '__iter__',\n",
              " '__ixor__',\n",
              " '__le__',\n",
              " '__len__',\n",
              " '__lt__',\n",
              " '__ne__',\n",
              " '__new__',\n",
              " '__or__',\n",
              " '__rand__',\n",
              " '__reduce__',\n",
              " '__reduce_ex__',\n",
              " '__repr__',\n",
              " '__ror__',\n",
              " '__rsub__',\n",
              " '__rxor__',\n",
              " '__setattr__',\n",
              " '__sizeof__',\n",
              " '__str__',\n",
              " '__sub__',\n",
              " '__subclasshook__',\n",
              " '__xor__',\n",
              " 'add',\n",
              " 'clear',\n",
              " 'copy',\n",
              " 'difference',\n",
              " 'difference_update',\n",
              " 'discard',\n",
              " 'intersection',\n",
              " 'intersection_update',\n",
              " 'isdisjoint',\n",
              " 'issubset',\n",
              " 'issuperset',\n",
              " 'pop',\n",
              " 'remove',\n",
              " 'symmetric_difference',\n",
              " 'symmetric_difference_update',\n",
              " 'union',\n",
              " 'update']"
            ]
          },
          "metadata": {},
          "execution_count": 31
        }
      ]
    },
    {
      "cell_type": "code",
      "source": [
        "setA.add('5')\n",
        "setA"
      ],
      "metadata": {
        "colab": {
          "base_uri": "https://localhost:8080/"
        },
        "id": "fOJ_oVE5sVg8",
        "outputId": "a4ebd98e-99cf-4680-be68-0a99916ae05d"
      },
      "execution_count": 35,
      "outputs": [
        {
          "output_type": "execute_result",
          "data": {
            "text/plain": [
              "{1, 2, 3, 4, '5'}"
            ]
          },
          "metadata": {},
          "execution_count": 35
        }
      ]
    },
    {
      "cell_type": "code",
      "source": [
        "setA.remove('5')\n",
        "setA"
      ],
      "metadata": {
        "colab": {
          "base_uri": "https://localhost:8080/"
        },
        "id": "TmCJDUR9sjFF",
        "outputId": "7b78d3fa-cc25-4367-9a66-12062faab891"
      },
      "execution_count": 40,
      "outputs": [
        {
          "output_type": "execute_result",
          "data": {
            "text/plain": [
              "{4}"
            ]
          },
          "metadata": {},
          "execution_count": 40
        }
      ]
    },
    {
      "cell_type": "code",
      "source": [],
      "metadata": {
        "id": "2gSXvuuas4uk"
      },
      "execution_count": null,
      "outputs": []
    }
  ]
}