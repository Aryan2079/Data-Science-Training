{
  "nbformat": 4,
  "nbformat_minor": 0,
  "metadata": {
    "colab": {
      "provenance": [],
      "authorship_tag": "ABX9TyOzkxAsGC98Rjzp5h/xCNHR",
      "include_colab_link": true
    },
    "kernelspec": {
      "name": "python3",
      "display_name": "Python 3"
    },
    "language_info": {
      "name": "python"
    }
  },
  "cells": [
    {
      "cell_type": "markdown",
      "metadata": {
        "id": "view-in-github",
        "colab_type": "text"
      },
      "source": [
        "<a href=\"https://colab.research.google.com/github/Aryan2079/Data-Science-Training/blob/main/Exercises.ipynb\" target=\"_parent\"><img src=\"https://colab.research.google.com/assets/colab-badge.svg\" alt=\"Open In Colab\"/></a>"
      ]
    },
    {
      "cell_type": "markdown",
      "source": [
        "Scenario 1: Online Orders in a Bangladeshi Store\n",
        "You are managing the online orders for a popular store in Bangladesh. Perform the following operations:\n",
        "\n",
        "Create a list to store the number of orders received per day for a week: [120, 90, 150, 200, 180, 160, 210].\n",
        "Find and print the day with the highest number of orders.\n",
        "Calculate and print the total number of orders received for the week.\n",
        "\n",
        "Scenario 2: Exam Grades in a Bangladeshi School\n",
        "As a teacher in a Bangladeshi school, you need to analyze the exam grades of your students. Perform the following operations:\n",
        "\n",
        "Create a list containing the exam grades of students: [85, 70, 92, 78, 80, 88, 95, 82].\n",
        "Add a new grade of 90 to the end of the list.\n",
        "Calculate and print the average grade of the students.\n",
        "Scenario-Based Questions for Dictionaries and Sets:\n",
        "\n",
        "Dictionaries:\n",
        "Scenario 1: Employee Information Management\n",
        "Create a dictionary to store employee information with key-value pairs for name, age, and department.\n",
        "Update the age of an employee.\n",
        "Print the department of a specific employee.\n",
        "\n",
        "Scenario 2: Product Catalog Management\n",
        "Create a dictionary to store product information with key-value pairs for product name and price.\n",
        "Add a new product to the catalog.\n",
        "Remove a product from the catalog.\n",
        "\n",
        "Scenario 3: Student Grades Tracking\n",
        "Create a dictionary to store student grades with key-value pairs for student name and exam score.\n",
        "Find the student with the highest score.\n",
        "Calculate the average grade of all students.\n",
        "\n",
        "Sets:\n",
        "Scenario 4: Unique Usernames\n",
        "Create a set to store unique usernames of website users.\n",
        "Add a new username to the set.\n",
        "Check if a specific username is in the set.\n",
        "\n",
        "Scenario 5: Ingredient Inventory\n",
        "Create a set to store different ingredients available in a kitchen.\n",
        "Add new ingredients to the set.\n",
        "Remove duplicate ingredients from the set.\n",
        "\n",
        "Scenario 6: Product Categories\n",
        "Create two sets containing product categories, such as electronics and clothing.\n",
        "Find the intersection of these two sets to determine common categories.\n",
        "Combine the sets to create a unified list of all product categories."
      ],
      "metadata": {
        "id": "gNYZUVaokSVl"
      }
    },
    {
      "cell_type": "code",
      "execution_count": 5,
      "metadata": {
        "colab": {
          "base_uri": "https://localhost:8080/"
        },
        "id": "ZGr3zDoDkGx5",
        "outputId": "7dfe6384-3c72-43fe-d0f9-fa93dd8626bb"
      },
      "outputs": [
        {
          "output_type": "stream",
          "name": "stdout",
          "text": [
            "enter the number of orders in sunday: 120\n",
            "enter the number of orders in monday: 90\n",
            "enter the number of orders in tuesday: 150\n",
            "enter the number of orders in wednesday: 200\n",
            "enter the number of orders in thursday: 180\n",
            "enter the number of orders in friday: 160\n",
            "enter the number of orders in saturday: 210\n",
            "your total orders this week is 1110 with 210 orders on saturday\n"
          ]
        }
      ],
      "source": [
        "# scenario 1\n",
        "orders_list = []\n",
        "\n",
        "days = ['sunday','monday','tuesday','wednesday','thursday','friday','saturday']\n",
        "\n",
        "total_orders = 0\n",
        "max = 0\n",
        "\n",
        "for day in days:\n",
        "  orders_number = input(f'enter the number of orders in {day}: ')\n",
        "  orders_list.append(orders_number)\n",
        "  total_orders += int(orders_number)\n",
        "  if int(orders_number)>int(max):\n",
        "    max=orders_number\n",
        "    max_order_day = day\n",
        "\n",
        "print(f'your total orders this week is {total_orders} with {max} orders on {max_order_day}')\n",
        "\n",
        "\n"
      ]
    },
    {
      "cell_type": "code",
      "source": [],
      "metadata": {
        "id": "zXEWhY5omTGK"
      },
      "execution_count": null,
      "outputs": []
    }
  ]
}