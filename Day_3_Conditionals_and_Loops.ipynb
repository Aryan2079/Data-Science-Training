{
  "nbformat": 4,
  "nbformat_minor": 0,
  "metadata": {
    "colab": {
      "provenance": [],
      "authorship_tag": "ABX9TyOueNG4N/pz7Rm0j38BsW6Q",
      "include_colab_link": true
    },
    "kernelspec": {
      "name": "python3",
      "display_name": "Python 3"
    },
    "language_info": {
      "name": "python"
    }
  },
  "cells": [
    {
      "cell_type": "markdown",
      "metadata": {
        "id": "view-in-github",
        "colab_type": "text"
      },
      "source": [
        "<a href=\"https://colab.research.google.com/github/Aryan2079/Data-Science-Training/blob/main/Day_3_Conditionals_and_Loops.ipynb\" target=\"_parent\"><img src=\"https://colab.research.google.com/assets/colab-badge.svg\" alt=\"Open In Colab\"/></a>"
      ]
    },
    {
      "cell_type": "markdown",
      "source": [
        "# Conditionals and Loops"
      ],
      "metadata": {
        "id": "bfnSuJg78ilM"
      }
    },
    {
      "cell_type": "markdown",
      "source": [
        "## 1. Conditionals"
      ],
      "metadata": {
        "id": "dAka0Jc78pLJ"
      }
    },
    {
      "cell_type": "code",
      "source": [
        "# this is the syntax example of if and else\n",
        "\n",
        "if(50%2==0):\n",
        "  print(\"this is even\")\n",
        "else:\n",
        "  print('this is odd')"
      ],
      "metadata": {
        "colab": {
          "base_uri": "https://localhost:8080/"
        },
        "id": "QaLOozQz9fPx",
        "outputId": "a9a571ff-2385-4ace-a8f5-2f48f2668c6f"
      },
      "execution_count": 4,
      "outputs": [
        {
          "output_type": "stream",
          "name": "stdout",
          "text": [
            "this is even\n"
          ]
        }
      ]
    },
    {
      "cell_type": "code",
      "execution_count": 6,
      "metadata": {
        "colab": {
          "base_uri": "https://localhost:8080/"
        },
        "id": "txGUadyD7VCa",
        "outputId": "68f33a71-8d95-4adc-b6b2-7dac3832bfe8"
      },
      "outputs": [
        {
          "output_type": "stream",
          "name": "stdout",
          "text": [
            "enter your number: -9\n",
            "negative\n"
          ]
        }
      ],
      "source": [
        "# this is the syntax example of elif\n",
        "\n",
        "number = int(input(\"enter your number: \"))\n",
        "\n",
        "if number>0:\n",
        "  print('positive')\n",
        "elif number<0:\n",
        "  print('negative')\n",
        "else:\n",
        "  print('zero')"
      ]
    },
    {
      "cell_type": "code",
      "source": [
        "# this is how u make a function and pass params to it\n",
        "\n",
        "def countchar(word, char):\n",
        "  c=0\n",
        "  for i in word:\n",
        "    if i == char:\n",
        "      c+=1\n",
        "  print(c)\n",
        "\n",
        "countchar('abcc','c')"
      ],
      "metadata": {
        "colab": {
          "base_uri": "https://localhost:8080/"
        },
        "id": "OP1LwaIU_Ffs",
        "outputId": "d8ccc823-e5df-4d19-bc8a-892fc529f1a3"
      },
      "execution_count": 7,
      "outputs": [
        {
          "output_type": "stream",
          "name": "stdout",
          "text": [
            "2\n"
          ]
        }
      ]
    },
    {
      "cell_type": "code",
      "source": [
        "# program to input marks and map them to their respective grades\n",
        "\n",
        "def grade_mapper(marks):\n",
        "  if(marks<100 and marks>=90):\n",
        "    print('A+')\n",
        "  elif(marks<90 and marks>=80):\n",
        "    print('A')\n",
        "  elif(marks<80 and marks>=60):\n",
        "    print('B')\n",
        "  elif(marks<60 and marks>=40):\n",
        "    print('C')\n",
        "  elif(marks<40):\n",
        "    print('D')\n",
        "\n",
        "marks = int(input('enter your marks: '))\n",
        "grade_mapper(marks)"
      ],
      "metadata": {
        "colab": {
          "base_uri": "https://localhost:8080/"
        },
        "id": "mZjkME3NCOn8",
        "outputId": "faf15a8b-34ef-4575-9119-4b25f3678f6e"
      },
      "execution_count": 10,
      "outputs": [
        {
          "output_type": "stream",
          "name": "stdout",
          "text": [
            "enter your marks: 39\n",
            "D\n"
          ]
        }
      ]
    },
    {
      "cell_type": "markdown",
      "source": [
        "## 2. Loops"
      ],
      "metadata": {
        "id": "tR8T_31cFHkd"
      }
    },
    {
      "cell_type": "markdown",
      "source": [
        "### for loops"
      ],
      "metadata": {
        "id": "_Rssma80JPp8"
      }
    },
    {
      "cell_type": "code",
      "source": [
        "# syntax example of for loops\n",
        "\n",
        "for i in range(1,11):\n",
        "  print(i)"
      ],
      "metadata": {
        "colab": {
          "base_uri": "https://localhost:8080/"
        },
        "id": "Yb-SmE7qEcF9",
        "outputId": "9a311339-61ab-4e00-a91d-33e2787a0bcb"
      },
      "execution_count": 13,
      "outputs": [
        {
          "output_type": "stream",
          "name": "stdout",
          "text": [
            "1\n",
            "2\n",
            "3\n",
            "4\n",
            "5\n",
            "6\n",
            "7\n",
            "8\n",
            "9\n",
            "10\n"
          ]
        }
      ]
    },
    {
      "cell_type": "code",
      "source": [
        "# this program prints the sum of all the numbers from 1 to 100\n",
        "\n",
        "sum =0\n",
        "for i in range (1,101):\n",
        "  sum+=i\n",
        "\n",
        "print(sum)"
      ],
      "metadata": {
        "colab": {
          "base_uri": "https://localhost:8080/"
        },
        "id": "QD_yxfquGC1m",
        "outputId": "0aef5688-a666-4ae7-a42d-de48c78ad9f4"
      },
      "execution_count": 14,
      "outputs": [
        {
          "output_type": "stream",
          "name": "stdout",
          "text": [
            "5050\n"
          ]
        }
      ]
    },
    {
      "cell_type": "markdown",
      "source": [
        "### while loops"
      ],
      "metadata": {
        "id": "Qof8VejWJUNb"
      }
    },
    {
      "cell_type": "code",
      "source": [
        "# syntax example of while loops\n",
        "\n",
        "i = 1\n",
        "while(i<11):\n",
        "  print(i)\n",
        "  i+=1"
      ],
      "metadata": {
        "colab": {
          "base_uri": "https://localhost:8080/"
        },
        "id": "KRuU1ZldHXcz",
        "outputId": "d4679b14-b0e7-4a76-f3a2-41f36ebe2d7b"
      },
      "execution_count": 15,
      "outputs": [
        {
          "output_type": "stream",
          "name": "stdout",
          "text": [
            "1\n",
            "2\n",
            "3\n",
            "4\n",
            "5\n",
            "6\n",
            "7\n",
            "8\n",
            "9\n",
            "10\n"
          ]
        }
      ]
    },
    {
      "cell_type": "code",
      "source": [
        "# this program calculates the sum of all the numbers from 1 to 100\n",
        "\n",
        "i =1\n",
        "sum=0\n",
        "while(i<101):\n",
        "  sum+=i\n",
        "  i=i+1\n",
        "print(sum)"
      ],
      "metadata": {
        "colab": {
          "base_uri": "https://localhost:8080/"
        },
        "id": "bMsJMFgQJbJ6",
        "outputId": "c6a4d376-e801-4ad0-e5a4-b991ced1ef76"
      },
      "execution_count": 16,
      "outputs": [
        {
          "output_type": "stream",
          "name": "stdout",
          "text": [
            "5050\n"
          ]
        }
      ]
    },
    {
      "cell_type": "code",
      "source": [
        "# this gives the even numbers from 1 to 100 using a for loop\n",
        "\n",
        "for i in range(1,101):\n",
        "  if(i%2==0):\n",
        "    print(i)"
      ],
      "metadata": {
        "colab": {
          "base_uri": "https://localhost:8080/"
        },
        "id": "pAdIVFrMKRzJ",
        "outputId": "27c28858-f5bb-4481-aafc-ac709fe1fb4f"
      },
      "execution_count": 17,
      "outputs": [
        {
          "output_type": "stream",
          "name": "stdout",
          "text": [
            "2\n",
            "4\n",
            "6\n",
            "8\n",
            "10\n"
          ]
        }
      ]
    },
    {
      "cell_type": "code",
      "source": [
        "# this gives the even numbers from 1 to 100 using a while loop\n",
        "\n",
        "i=1\n",
        "while(i<=100):\n",
        "  if(i%2==0):\n",
        "    print(i)\n",
        "  i=i+1"
      ],
      "metadata": {
        "colab": {
          "base_uri": "https://localhost:8080/"
        },
        "id": "fJ5AKAkFK2Ir",
        "outputId": "bf723d8d-8c32-41db-dfd5-57dc11778420"
      },
      "execution_count": 19,
      "outputs": [
        {
          "output_type": "stream",
          "name": "stdout",
          "text": [
            "2\n",
            "4\n",
            "6\n",
            "8\n",
            "10\n"
          ]
        }
      ]
    },
    {
      "cell_type": "code",
      "source": [],
      "metadata": {
        "id": "Ozmb_qSULAtd"
      },
      "execution_count": null,
      "outputs": []
    }
  ]
}