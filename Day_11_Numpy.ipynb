{
  "nbformat": 4,
  "nbformat_minor": 0,
  "metadata": {
    "colab": {
      "provenance": [],
      "authorship_tag": "ABX9TyO8BjwiDDA56+2u384+eYUy",
      "include_colab_link": true
    },
    "kernelspec": {
      "name": "python3",
      "display_name": "Python 3"
    },
    "language_info": {
      "name": "python"
    }
  },
  "cells": [
    {
      "cell_type": "markdown",
      "metadata": {
        "id": "view-in-github",
        "colab_type": "text"
      },
      "source": [
        "<a href=\"https://colab.research.google.com/github/Aryan2079/Data-Science-Training/blob/main/Day_11_Numpy.ipynb\" target=\"_parent\"><img src=\"https://colab.research.google.com/assets/colab-badge.svg\" alt=\"Open In Colab\"/></a>"
      ]
    },
    {
      "cell_type": "code",
      "execution_count": 1,
      "metadata": {
        "id": "lCsFQv05uYRN"
      },
      "outputs": [],
      "source": [
        "import numpy as np"
      ]
    },
    {
      "cell_type": "code",
      "source": [
        "a = np.array([1,5,25,8,3,56])\n"
      ],
      "metadata": {
        "id": "nVQXfvZOwltS"
      },
      "execution_count": 3,
      "outputs": []
    },
    {
      "cell_type": "code",
      "source": [
        "np.sort(a)"
      ],
      "metadata": {
        "colab": {
          "base_uri": "https://localhost:8080/"
        },
        "id": "1yiYlnonwyUe",
        "outputId": "734bc4c0-fee9-42e1-a6f5-893032826029"
      },
      "execution_count": 4,
      "outputs": [
        {
          "output_type": "execute_result",
          "data": {
            "text/plain": [
              "array([ 1,  3,  5,  8, 25, 56])"
            ]
          },
          "metadata": {},
          "execution_count": 4
        }
      ]
    },
    {
      "cell_type": "code",
      "source": [
        "arr = np.array([1,2,3])\n",
        "demoArr = np.array([2,4,6,7,8])\n",
        "np.concatenate((arr,demoArr))"
      ],
      "metadata": {
        "colab": {
          "base_uri": "https://localhost:8080/"
        },
        "id": "UrcXJZqyw31U",
        "outputId": "26938db7-307c-4066-dc9c-1d858825ea3d"
      },
      "execution_count": 5,
      "outputs": [
        {
          "output_type": "execute_result",
          "data": {
            "text/plain": [
              "array([1, 2, 3, 2, 4, 6, 7, 8])"
            ]
          },
          "metadata": {},
          "execution_count": 5
        }
      ]
    },
    {
      "cell_type": "code",
      "source": [
        "array_example = np.array([[0,1,2,3],[4,5,6,7],[4,5,6,7]])"
      ],
      "metadata": {
        "id": "HIFA6NUFxG_v"
      },
      "execution_count": 6,
      "outputs": []
    },
    {
      "cell_type": "code",
      "source": [
        "array_example"
      ],
      "metadata": {
        "colab": {
          "base_uri": "https://localhost:8080/"
        },
        "id": "4nL9ElQ0xSfP",
        "outputId": "06f37d7d-7440-4e20-9988-349d35e8dcce"
      },
      "execution_count": 7,
      "outputs": [
        {
          "output_type": "execute_result",
          "data": {
            "text/plain": [
              "array([[0, 1, 2, 3],\n",
              "       [4, 5, 6, 7],\n",
              "       [4, 5, 6, 7]])"
            ]
          },
          "metadata": {},
          "execution_count": 7
        }
      ]
    },
    {
      "cell_type": "code",
      "source": [
        "array_example.shape"
      ],
      "metadata": {
        "colab": {
          "base_uri": "https://localhost:8080/"
        },
        "id": "iF_DhxSAxTgj",
        "outputId": "28ee9d51-4922-4a77-a037-064331339a6e"
      },
      "execution_count": 8,
      "outputs": [
        {
          "output_type": "execute_result",
          "data": {
            "text/plain": [
              "(3, 4)"
            ]
          },
          "metadata": {},
          "execution_count": 8
        }
      ]
    },
    {
      "cell_type": "code",
      "source": [
        "array_example.ndim"
      ],
      "metadata": {
        "colab": {
          "base_uri": "https://localhost:8080/"
        },
        "id": "JzPTBCNZxj-g",
        "outputId": "6d29a5f4-0531-4907-c7e1-9bb5186113e3"
      },
      "execution_count": 10,
      "outputs": [
        {
          "output_type": "execute_result",
          "data": {
            "text/plain": [
              "2"
            ]
          },
          "metadata": {},
          "execution_count": 10
        }
      ]
    },
    {
      "cell_type": "code",
      "source": [
        "array_example.size"
      ],
      "metadata": {
        "colab": {
          "base_uri": "https://localhost:8080/"
        },
        "id": "PHMQc9L8xlML",
        "outputId": "325d99a0-e580-4f61-9d33-e2bf5a406920"
      },
      "execution_count": 11,
      "outputs": [
        {
          "output_type": "execute_result",
          "data": {
            "text/plain": [
              "12"
            ]
          },
          "metadata": {},
          "execution_count": 11
        }
      ]
    },
    {
      "cell_type": "markdown",
      "source": [
        "## Reshape"
      ],
      "metadata": {
        "id": "tP41JO2GxuWg"
      }
    },
    {
      "cell_type": "code",
      "source": [
        "demo_array = np.arange(10)\n",
        "demo_array"
      ],
      "metadata": {
        "colab": {
          "base_uri": "https://localhost:8080/"
        },
        "id": "g8sRx8h4x-m7",
        "outputId": "5a57f4b2-774f-4690-8d5f-276a677b040e"
      },
      "execution_count": 12,
      "outputs": [
        {
          "output_type": "execute_result",
          "data": {
            "text/plain": [
              "array([0, 1, 2, 3, 4, 5, 6, 7, 8, 9])"
            ]
          },
          "metadata": {},
          "execution_count": 12
        }
      ]
    },
    {
      "cell_type": "code",
      "source": [
        "practice_arr = np.arange(64)\n",
        "practice_arr"
      ],
      "metadata": {
        "colab": {
          "base_uri": "https://localhost:8080/"
        },
        "id": "Y2A1-uouxqFl",
        "outputId": "8922deb5-de13-465a-b563-0e4d5abcb2ec"
      },
      "execution_count": 13,
      "outputs": [
        {
          "output_type": "execute_result",
          "data": {
            "text/plain": [
              "array([ 0,  1,  2,  3,  4,  5,  6,  7,  8,  9, 10, 11, 12, 13, 14, 15, 16,\n",
              "       17, 18, 19, 20, 21, 22, 23, 24, 25, 26, 27, 28, 29, 30, 31, 32, 33,\n",
              "       34, 35, 36, 37, 38, 39, 40, 41, 42, 43, 44, 45, 46, 47, 48, 49, 50,\n",
              "       51, 52, 53, 54, 55, 56, 57, 58, 59, 60, 61, 62, 63])"
            ]
          },
          "metadata": {},
          "execution_count": 13
        }
      ]
    },
    {
      "cell_type": "code",
      "source": [
        "practice_arr.reshape(16,4)\n",
        "practice_arr.reshape(4,4,4)\n",
        "practice_arr.reshape(8,2,4)\n",
        "# practice_arr.reshape(10,2)\n"
      ],
      "metadata": {
        "colab": {
          "base_uri": "https://localhost:8080/"
        },
        "id": "-Zcx7BfJyip0",
        "outputId": "32dc19ed-4746-4744-bbb9-4b7a1323e5be"
      },
      "execution_count": 15,
      "outputs": [
        {
          "output_type": "execute_result",
          "data": {
            "text/plain": [
              "array([[[ 0,  1,  2,  3],\n",
              "        [ 4,  5,  6,  7]],\n",
              "\n",
              "       [[ 8,  9, 10, 11],\n",
              "        [12, 13, 14, 15]],\n",
              "\n",
              "       [[16, 17, 18, 19],\n",
              "        [20, 21, 22, 23]],\n",
              "\n",
              "       [[24, 25, 26, 27],\n",
              "        [28, 29, 30, 31]],\n",
              "\n",
              "       [[32, 33, 34, 35],\n",
              "        [36, 37, 38, 39]],\n",
              "\n",
              "       [[40, 41, 42, 43],\n",
              "        [44, 45, 46, 47]],\n",
              "\n",
              "       [[48, 49, 50, 51],\n",
              "        [52, 53, 54, 55]],\n",
              "\n",
              "       [[56, 57, 58, 59],\n",
              "        [60, 61, 62, 63]]])"
            ]
          },
          "metadata": {},
          "execution_count": 15
        }
      ]
    },
    {
      "cell_type": "code",
      "source": [
        "data = np.array([1,2,3])"
      ],
      "metadata": {
        "id": "-nPHioYZyrHJ"
      },
      "execution_count": 16,
      "outputs": []
    },
    {
      "cell_type": "code",
      "source": [
        "data[1]"
      ],
      "metadata": {
        "colab": {
          "base_uri": "https://localhost:8080/"
        },
        "id": "95k-BOFBz8QD",
        "outputId": "8fc7ba6f-ef44-4d69-9e65-391c07a9dbda"
      },
      "execution_count": 17,
      "outputs": [
        {
          "output_type": "execute_result",
          "data": {
            "text/plain": [
              "2"
            ]
          },
          "metadata": {},
          "execution_count": 17
        }
      ]
    },
    {
      "cell_type": "code",
      "source": [
        "data[0:2]"
      ],
      "metadata": {
        "colab": {
          "base_uri": "https://localhost:8080/"
        },
        "id": "tsa0ceGGz9Js",
        "outputId": "fbf8a06e-c020-4cf0-ee0f-879e12b75255"
      },
      "execution_count": 18,
      "outputs": [
        {
          "output_type": "execute_result",
          "data": {
            "text/plain": [
              "array([1, 2])"
            ]
          },
          "metadata": {},
          "execution_count": 18
        }
      ]
    },
    {
      "cell_type": "code",
      "source": [
        "data = np.array([[3,6,5],[7,8,4]])"
      ],
      "metadata": {
        "id": "9L5GezvVz_oU"
      },
      "execution_count": 20,
      "outputs": []
    },
    {
      "cell_type": "code",
      "source": [
        "data[1,2]"
      ],
      "metadata": {
        "colab": {
          "base_uri": "https://localhost:8080/"
        },
        "id": "BQ6Hpi4U0CKt",
        "outputId": "42ac27e3-11b1-4b1e-cf3d-9722f75139c4"
      },
      "execution_count": 21,
      "outputs": [
        {
          "output_type": "execute_result",
          "data": {
            "text/plain": [
              "4"
            ]
          },
          "metadata": {},
          "execution_count": 21
        }
      ]
    },
    {
      "cell_type": "code",
      "source": [
        "data[-1,-1]"
      ],
      "metadata": {
        "colab": {
          "base_uri": "https://localhost:8080/"
        },
        "id": "rC8Dqu1I0Rny",
        "outputId": "83a14033-e9c1-40c5-9f73-a10071fbb0a7"
      },
      "execution_count": 22,
      "outputs": [
        {
          "output_type": "execute_result",
          "data": {
            "text/plain": [
              "4"
            ]
          },
          "metadata": {},
          "execution_count": 22
        }
      ]
    },
    {
      "cell_type": "code",
      "source": [
        "data[data<5]"
      ],
      "metadata": {
        "colab": {
          "base_uri": "https://localhost:8080/"
        },
        "id": "IkNXskRk0WCH",
        "outputId": "2b276edd-9e78-4db6-d964-32903842f3ab"
      },
      "execution_count": 23,
      "outputs": [
        {
          "output_type": "execute_result",
          "data": {
            "text/plain": [
              "array([3, 4])"
            ]
          },
          "metadata": {},
          "execution_count": 23
        }
      ]
    },
    {
      "cell_type": "code",
      "source": [
        "data[data>=6]"
      ],
      "metadata": {
        "colab": {
          "base_uri": "https://localhost:8080/"
        },
        "id": "oL_0rddI0rJT",
        "outputId": "7cf0d87e-ee26-4e2d-d700-566e2a91badb"
      },
      "execution_count": 24,
      "outputs": [
        {
          "output_type": "execute_result",
          "data": {
            "text/plain": [
              "array([6, 7, 8])"
            ]
          },
          "metadata": {},
          "execution_count": 24
        }
      ]
    },
    {
      "cell_type": "code",
      "source": [
        "five_up = (data>=5)\n",
        "data[five_up]"
      ],
      "metadata": {
        "colab": {
          "base_uri": "https://localhost:8080/"
        },
        "id": "mXD4YSvO0wXa",
        "outputId": "408e2427-900a-424f-fd3b-3028e0de643c"
      },
      "execution_count": 25,
      "outputs": [
        {
          "output_type": "execute_result",
          "data": {
            "text/plain": [
              "array([6, 5, 7, 8])"
            ]
          },
          "metadata": {},
          "execution_count": 25
        }
      ]
    },
    {
      "cell_type": "code",
      "source": [
        "div_array = np.arange(1,51)\n",
        "div_array"
      ],
      "metadata": {
        "colab": {
          "base_uri": "https://localhost:8080/"
        },
        "id": "BkaLe3WO03fR",
        "outputId": "3de19b73-7bd6-4b9c-cca9-963fbfe456fa"
      },
      "execution_count": 26,
      "outputs": [
        {
          "output_type": "execute_result",
          "data": {
            "text/plain": [
              "array([ 1,  2,  3,  4,  5,  6,  7,  8,  9, 10, 11, 12, 13, 14, 15, 16, 17,\n",
              "       18, 19, 20, 21, 22, 23, 24, 25, 26, 27, 28, 29, 30, 31, 32, 33, 34,\n",
              "       35, 36, 37, 38, 39, 40, 41, 42, 43, 44, 45, 46, 47, 48, 49, 50])"
            ]
          },
          "metadata": {},
          "execution_count": 26
        }
      ]
    },
    {
      "cell_type": "code",
      "source": [
        "query = (div_array%2==0)\n",
        "div_array[query]"
      ],
      "metadata": {
        "colab": {
          "base_uri": "https://localhost:8080/"
        },
        "id": "tJekwyHP1gs8",
        "outputId": "ecdfec4e-39cf-4958-ec05-a87ad3baa8a4"
      },
      "execution_count": 27,
      "outputs": [
        {
          "output_type": "execute_result",
          "data": {
            "text/plain": [
              "array([ 2,  4,  6,  8, 10, 12, 14, 16, 18, 20, 22, 24, 26, 28, 30, 32, 34,\n",
              "       36, 38, 40, 42, 44, 46, 48, 50])"
            ]
          },
          "metadata": {},
          "execution_count": 27
        }
      ]
    },
    {
      "cell_type": "code",
      "source": [
        "li = [5,6,7,8]\n",
        "list(map(lambda x:x*2,li))"
      ],
      "metadata": {
        "colab": {
          "base_uri": "https://localhost:8080/"
        },
        "id": "8T3kaudH1o1X",
        "outputId": "e9821f07-7517-4179-82ca-918d58388113"
      },
      "execution_count": 29,
      "outputs": [
        {
          "output_type": "execute_result",
          "data": {
            "text/plain": [
              "[10, 12, 14, 16]"
            ]
          },
          "metadata": {},
          "execution_count": 29
        }
      ]
    },
    {
      "cell_type": "code",
      "source": [
        "list_ = np.array([5,6,8,9])\n",
        "list_*2"
      ],
      "metadata": {
        "colab": {
          "base_uri": "https://localhost:8080/"
        },
        "id": "liXfOpH93bJ_",
        "outputId": "abad9141-00ff-46a6-f19f-92b51d118f53"
      },
      "execution_count": 32,
      "outputs": [
        {
          "output_type": "execute_result",
          "data": {
            "text/plain": [
              "array([10, 12, 16, 18])"
            ]
          },
          "metadata": {},
          "execution_count": 32
        }
      ]
    },
    {
      "cell_type": "markdown",
      "source": [
        "## Trignometry"
      ],
      "metadata": {
        "id": "OCcBORKR38ze"
      }
    },
    {
      "cell_type": "code",
      "source": [
        "a = np.array([5,6,7,1.5708])\n"
      ],
      "metadata": {
        "id": "G9y1L6Wu3tC7"
      },
      "execution_count": 33,
      "outputs": []
    },
    {
      "cell_type": "code",
      "source": [
        "np.sin(a)"
      ],
      "metadata": {
        "colab": {
          "base_uri": "https://localhost:8080/"
        },
        "id": "7A0VP3_O4Dz5",
        "outputId": "88d95872-af02-4175-9c01-03f3eccd6604"
      },
      "execution_count": 34,
      "outputs": [
        {
          "output_type": "execute_result",
          "data": {
            "text/plain": [
              "array([-0.95892427, -0.2794155 ,  0.6569866 ,  1.        ])"
            ]
          },
          "metadata": {},
          "execution_count": 34
        }
      ]
    },
    {
      "cell_type": "code",
      "source": [
        "np.cos(a)"
      ],
      "metadata": {
        "colab": {
          "base_uri": "https://localhost:8080/"
        },
        "id": "SJJrtWDJ4FgN",
        "outputId": "6744fec8-f30f-420b-a7f5-b8497d3dafc9"
      },
      "execution_count": 35,
      "outputs": [
        {
          "output_type": "execute_result",
          "data": {
            "text/plain": [
              "array([ 2.83662185e-01,  9.60170287e-01,  7.53902254e-01, -3.67320510e-06])"
            ]
          },
          "metadata": {},
          "execution_count": 35
        }
      ]
    },
    {
      "cell_type": "code",
      "source": [
        "np.tan(a)"
      ],
      "metadata": {
        "colab": {
          "base_uri": "https://localhost:8080/"
        },
        "id": "0NlUIyAK4GZ3",
        "outputId": "ca2834ce-46b2-4267-e194-c8fa7f715d47"
      },
      "execution_count": 36,
      "outputs": [
        {
          "output_type": "execute_result",
          "data": {
            "text/plain": [
              "array([-3.38051501e+00, -2.91006191e-01,  8.71447983e-01, -2.72241808e+05])"
            ]
          },
          "metadata": {},
          "execution_count": 36
        }
      ]
    },
    {
      "cell_type": "code",
      "source": [
        "a = np.array([[1,2,3],[4,5,6]])\n",
        "b = np.array([[1,2],[4,5],[6,7]])\n",
        "print(a)\n",
        "print(b)"
      ],
      "metadata": {
        "colab": {
          "base_uri": "https://localhost:8080/"
        },
        "id": "9iCr6Bpt4Hrj",
        "outputId": "850660c5-df31-43fb-9421-33b09b4efb2b"
      },
      "execution_count": 39,
      "outputs": [
        {
          "output_type": "stream",
          "name": "stdout",
          "text": [
            "[[1 2 3]\n",
            " [4 5 6]]\n",
            "[[1 2]\n",
            " [4 5]\n",
            " [6 7]]\n"
          ]
        }
      ]
    },
    {
      "cell_type": "code",
      "source": [
        "a = np.random.randn(2,3)\n",
        "b = np.random.randn(3,2)\n",
        "print(a)\n",
        "print(b)"
      ],
      "metadata": {
        "colab": {
          "base_uri": "https://localhost:8080/"
        },
        "id": "E_Of9MwT4oEi",
        "outputId": "58e929a5-1105-4814-c353-adebd931a434"
      },
      "execution_count": 40,
      "outputs": [
        {
          "output_type": "stream",
          "name": "stdout",
          "text": [
            "[[-0.70217281 -0.13874898  0.79360651]\n",
            " [-1.29376884 -0.94201314  0.62107244]]\n",
            "[[-1.56103353 -0.09810023]\n",
            " [ 0.95067706  0.61110125]\n",
            " [-0.25775008 -0.44806743]]\n"
          ]
        }
      ]
    },
    {
      "cell_type": "code",
      "source": [
        "np.matmul(a,b)"
      ],
      "metadata": {
        "colab": {
          "base_uri": "https://localhost:8080/"
        },
        "id": "7E2yJih_5G4e",
        "outputId": "beaf084f-3d6c-4e80-c182-780b82f45c1a"
      },
      "execution_count": 41,
      "outputs": [
        {
          "output_type": "execute_result",
          "data": {
            "text/plain": [
              "array([[ 0.7596577 , -0.37149559],\n",
              "       [ 0.96398479, -0.72702872]])"
            ]
          },
          "metadata": {},
          "execution_count": 41
        }
      ]
    },
    {
      "cell_type": "code",
      "source": [
        "rand_mat1 = np.random.randn(1000,3)\n",
        "rand_mat2 = np.random.randn(3,1000)\n",
        "np.matmul(rand_mat1, rand_mat2).shape"
      ],
      "metadata": {
        "colab": {
          "base_uri": "https://localhost:8080/"
        },
        "id": "6ROACx4U5joe",
        "outputId": "c85d8451-77ab-4a9c-9088-178db95d1a84"
      },
      "execution_count": 42,
      "outputs": [
        {
          "output_type": "execute_result",
          "data": {
            "text/plain": [
              "(1000, 1000)"
            ]
          },
          "metadata": {},
          "execution_count": 42
        }
      ]
    },
    {
      "cell_type": "markdown",
      "source": [
        "Numpy Exercises\n",
        "Multiply the following two NumPy arrays element-wise: [1, 2, 3] and [4, 5, 6], and print the result.\n",
        "Calculate the mean of the following NumPy array: [3, 7, 10, 15, 19], and print the result.\n",
        "Reshape the following NumPy array into a 2x3 matrix: [1, 2, 3, 4, 5, 6].\n",
        "Find the maximum value in the following NumPy array: [9, 2, 7, 5, 3], and print it.\n",
        "More exercises\n",
        "\n",
        "Create a 2D NumPy array with shape (5, 5) containing random integers between 1 and 100. Replace all values greater than 50 with 0 and print the modified array.\n",
        "\n",
        "Create a 1D NumPy array with 20 elements ranging from 0 to 100. Reshape the array into a 4x5 matrix and print it.\n",
        "\n",
        "Create a 3x3 matrix with random values between 0 and 1. Replace all values less than 0.5 with 0 and print the modified matrix.\n",
        "\n",
        "Create a 1D NumPy array with 100 elements ranging from 1 to 100. Reshape the array into a 10x10 matrix and calculate the sum of each row. Print the sum.\n",
        "\n",
        "Create a 2D NumPy array with shape (4, 4) containing random integers between 1 and 10. Find the indices of the maximum value in each row and print the indices.\n",
        "\n",
        "Create a 1D NumPy array with 50 random elements randomly. Calculate the mean and standard deviation of the array and print the results.\n",
        "\n",
        "Create a 2D NumPy array with shape (3, 3) and fill it with values ranging from 0 to 8. Shuffle the rows randomly and print the shuffled array.\n",
        "\n",
        "Create a 1D NumPy array with 100 elements ranging from 1 to 10. Replace all odd values with -1 and print the modified array.\n",
        "\n",
        "Create a 3x3 matrix with random values between 0 and 1. Normalize the matrix by dividing each row by the sum of its elements and print the normalized matrix.\n",
        "\n",
        "Create a 2D NumPy array with shape (5, 5) and fill it with random values between 0 and 1. Sort the elements in each column in descending order and print the sorted array."
      ],
      "metadata": {
        "id": "F9QLA7Gj7HyT"
      }
    },
    {
      "cell_type": "code",
      "source": [
        "matA=[1,2,3]\n",
        "matB=[4,5,6]\n",
        "np.multiply(matA,matB)"
      ],
      "metadata": {
        "colab": {
          "base_uri": "https://localhost:8080/"
        },
        "id": "RejlaYuc6DVr",
        "outputId": "e806247b-d132-48db-9f58-8f75a40f6a0e"
      },
      "execution_count": 43,
      "outputs": [
        {
          "output_type": "execute_result",
          "data": {
            "text/plain": [
              "array([ 4, 10, 18])"
            ]
          },
          "metadata": {},
          "execution_count": 43
        }
      ]
    },
    {
      "cell_type": "code",
      "source": [
        "mean_mat = [3, 7, 10, 15, 19]\n",
        "np.mean(mean_mat)"
      ],
      "metadata": {
        "colab": {
          "base_uri": "https://localhost:8080/"
        },
        "id": "N2Myi4IL7S6t",
        "outputId": "8a7bd472-eda8-4a82-c34b-fed1546f3cd0"
      },
      "execution_count": 44,
      "outputs": [
        {
          "output_type": "execute_result",
          "data": {
            "text/plain": [
              "10.8"
            ]
          },
          "metadata": {},
          "execution_count": 44
        }
      ]
    },
    {
      "cell_type": "code",
      "source": [
        "reshape_mat = [1, 2, 3, 4, 5, 6]\n",
        "np.reshape(reshape_mat,(2,3))"
      ],
      "metadata": {
        "colab": {
          "base_uri": "https://localhost:8080/"
        },
        "id": "korCFa037Zcs",
        "outputId": "a32380fd-8523-4170-8d19-4ee918705759"
      },
      "execution_count": 45,
      "outputs": [
        {
          "output_type": "execute_result",
          "data": {
            "text/plain": [
              "array([[1, 2, 3],\n",
              "       [4, 5, 6]])"
            ]
          },
          "metadata": {},
          "execution_count": 45
        }
      ]
    },
    {
      "cell_type": "code",
      "source": [
        "max_mat = [9, 2, 7, 5, 3]\n",
        "np.max(max_mat)"
      ],
      "metadata": {
        "colab": {
          "base_uri": "https://localhost:8080/"
        },
        "id": "6DXgH9zc7d03",
        "outputId": "1a312c55-26a0-4692-beb8-02dfd1f50dc2"
      },
      "execution_count": 46,
      "outputs": [
        {
          "output_type": "execute_result",
          "data": {
            "text/plain": [
              "9"
            ]
          },
          "metadata": {},
          "execution_count": 46
        }
      ]
    },
    {
      "cell_type": "code",
      "source": [
        "modify_mat = np.random.randint(1,100,(5,5))\n",
        "modify_mat"
      ],
      "metadata": {
        "colab": {
          "base_uri": "https://localhost:8080/"
        },
        "id": "rMmdvpkO7isb",
        "outputId": "df2f272b-cc93-497e-d162-cdb90e518094"
      },
      "execution_count": 49,
      "outputs": [
        {
          "output_type": "execute_result",
          "data": {
            "text/plain": [
              "array([[15, 63,  1,  5, 58],\n",
              "       [21, 12, 18,  5, 84],\n",
              "       [80,  3, 16, 27, 27],\n",
              "       [66,  7, 49, 11, 82],\n",
              "       [ 5, 78, 58, 71, 71]])"
            ]
          },
          "metadata": {},
          "execution_count": 49
        }
      ]
    },
    {
      "cell_type": "code",
      "source": [
        "modify_mat[modify_mat>50]=0\n",
        "modify_mat"
      ],
      "metadata": {
        "colab": {
          "base_uri": "https://localhost:8080/"
        },
        "id": "S-lDfwxe8RxF",
        "outputId": "3a0eb156-2a7a-47ce-9a1f-2ccab467ef5c"
      },
      "execution_count": 51,
      "outputs": [
        {
          "output_type": "execute_result",
          "data": {
            "text/plain": [
              "array([[15,  0,  1,  5,  0],\n",
              "       [21, 12, 18,  5,  0],\n",
              "       [ 0,  3, 16, 27, 27],\n",
              "       [ 0,  7, 49, 11,  0],\n",
              "       [ 5,  0,  0,  0,  0]])"
            ]
          },
          "metadata": {},
          "execution_count": 51
        }
      ]
    },
    {
      "cell_type": "code",
      "source": [
        "rand_arr = np.random.randint(1,100,20)\n",
        "rand_arr"
      ],
      "metadata": {
        "colab": {
          "base_uri": "https://localhost:8080/"
        },
        "id": "vtMtj9NV8uox",
        "outputId": "20991425-7112-4dd5-8022-46d9b69c5263"
      },
      "execution_count": 56,
      "outputs": [
        {
          "output_type": "execute_result",
          "data": {
            "text/plain": [
              "array([72, 55, 63, 46, 88, 17, 32, 81, 75, 49, 72, 76, 61, 83, 90, 54, 86,\n",
              "       26, 92, 19])"
            ]
          },
          "metadata": {},
          "execution_count": 56
        }
      ]
    },
    {
      "cell_type": "code",
      "source": [
        "rand_arr = np.reshape(rand_arr,(4,5))\n",
        "rand_arr"
      ],
      "metadata": {
        "colab": {
          "base_uri": "https://localhost:8080/"
        },
        "id": "q0CNAeWw9W1-",
        "outputId": "55351537-d411-4267-cc54-342b204646b5"
      },
      "execution_count": 57,
      "outputs": [
        {
          "output_type": "execute_result",
          "data": {
            "text/plain": [
              "array([[72, 55, 63, 46, 88],\n",
              "       [17, 32, 81, 75, 49],\n",
              "       [72, 76, 61, 83, 90],\n",
              "       [54, 86, 26, 92, 19]])"
            ]
          },
          "metadata": {},
          "execution_count": 57
        }
      ]
    },
    {
      "cell_type": "code",
      "source": [
        "rand_mat = np.random.randint(0,1,(3,3))\n",
        "rand_mat[rand_mat<0.5]=0\n",
        "rand_mat"
      ],
      "metadata": {
        "colab": {
          "base_uri": "https://localhost:8080/"
        },
        "id": "nvtecJCi9c7I",
        "outputId": "39331e45-416b-4c7d-cb59-b3a14bd25ffc"
      },
      "execution_count": 71,
      "outputs": [
        {
          "output_type": "execute_result",
          "data": {
            "text/plain": [
              "array([[0, 0, 0],\n",
              "       [0, 0, 0],\n",
              "       [0, 0, 0]])"
            ]
          },
          "metadata": {},
          "execution_count": 71
        }
      ]
    },
    {
      "cell_type": "code",
      "source": [
        "sum_mat = np.arange(1,101).reshape(10,10)\n",
        "sum_mat"
      ],
      "metadata": {
        "colab": {
          "base_uri": "https://localhost:8080/"
        },
        "id": "ru_9TjfM9vUk",
        "outputId": "c299a584-9347-4c47-c2e0-c53f98710049"
      },
      "execution_count": 72,
      "outputs": [
        {
          "output_type": "execute_result",
          "data": {
            "text/plain": [
              "array([[  1,   2,   3,   4,   5,   6,   7,   8,   9,  10],\n",
              "       [ 11,  12,  13,  14,  15,  16,  17,  18,  19,  20],\n",
              "       [ 21,  22,  23,  24,  25,  26,  27,  28,  29,  30],\n",
              "       [ 31,  32,  33,  34,  35,  36,  37,  38,  39,  40],\n",
              "       [ 41,  42,  43,  44,  45,  46,  47,  48,  49,  50],\n",
              "       [ 51,  52,  53,  54,  55,  56,  57,  58,  59,  60],\n",
              "       [ 61,  62,  63,  64,  65,  66,  67,  68,  69,  70],\n",
              "       [ 71,  72,  73,  74,  75,  76,  77,  78,  79,  80],\n",
              "       [ 81,  82,  83,  84,  85,  86,  87,  88,  89,  90],\n",
              "       [ 91,  92,  93,  94,  95,  96,  97,  98,  99, 100]])"
            ]
          },
          "metadata": {},
          "execution_count": 72
        }
      ]
    },
    {
      "cell_type": "code",
      "source": [
        "sum_mat.sum(axis=1)"
      ],
      "metadata": {
        "colab": {
          "base_uri": "https://localhost:8080/"
        },
        "id": "zCEhpHTi_Gns",
        "outputId": "66970b42-234c-4399-8330-07a7af112106"
      },
      "execution_count": 73,
      "outputs": [
        {
          "output_type": "execute_result",
          "data": {
            "text/plain": [
              "array([ 55, 155, 255, 355, 455, 555, 655, 755, 855, 955])"
            ]
          },
          "metadata": {},
          "execution_count": 73
        }
      ]
    },
    {
      "cell_type": "code",
      "source": [
        "ran_arr = np.random.randint(1,10,(4,4))\n",
        "ran_arr"
      ],
      "metadata": {
        "colab": {
          "base_uri": "https://localhost:8080/"
        },
        "id": "bnPcmdlw_M1h",
        "outputId": "74f73fe1-1b3f-4fa8-cda4-5eb8b61c18ee"
      },
      "execution_count": 74,
      "outputs": [
        {
          "output_type": "execute_result",
          "data": {
            "text/plain": [
              "array([[3, 1, 4, 4],\n",
              "       [9, 8, 6, 4],\n",
              "       [1, 8, 4, 2],\n",
              "       [1, 6, 3, 7]])"
            ]
          },
          "metadata": {},
          "execution_count": 74
        }
      ]
    },
    {
      "cell_type": "code",
      "source": [
        "rand_arr.argmax(axis=1)"
      ],
      "metadata": {
        "colab": {
          "base_uri": "https://localhost:8080/"
        },
        "id": "F_CItV0m_ZH-",
        "outputId": "f8996e17-8e31-484a-a294-222bcbc4b122"
      },
      "execution_count": 75,
      "outputs": [
        {
          "output_type": "execute_result",
          "data": {
            "text/plain": [
              "array([], dtype=int64)"
            ]
          },
          "metadata": {},
          "execution_count": 75
        }
      ]
    },
    {
      "cell_type": "code",
      "source": [],
      "metadata": {
        "id": "IpfET6pK_bpT"
      },
      "execution_count": null,
      "outputs": []
    }
  ]
}