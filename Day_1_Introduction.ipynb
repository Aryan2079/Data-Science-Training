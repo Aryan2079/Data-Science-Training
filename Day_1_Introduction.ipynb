{
  "nbformat": 4,
  "nbformat_minor": 0,
  "metadata": {
    "colab": {
      "provenance": [],
      "authorship_tag": "ABX9TyNlomyUD9odWslsDQBgVdt2",
      "include_colab_link": true
    },
    "kernelspec": {
      "name": "python3",
      "display_name": "Python 3"
    },
    "language_info": {
      "name": "python"
    }
  },
  "cells": [
    {
      "cell_type": "markdown",
      "metadata": {
        "id": "view-in-github",
        "colab_type": "text"
      },
      "source": [
        "<a href=\"https://colab.research.google.com/github/Aryan2079/Data-Science-Training/blob/main/Day_1_Introduction.ipynb\" target=\"_parent\"><img src=\"https://colab.research.google.com/assets/colab-badge.svg\" alt=\"Open In Colab\"/></a>"
      ]
    },
    {
      "cell_type": "markdown",
      "source": [
        "# 1. Introduction"
      ],
      "metadata": {
        "id": "TsYKLlSDwBQw"
      }
    },
    {
      "cell_type": "markdown",
      "source": [
        "python has 4 primitive data types in python. Integer, Float, String and Boolean."
      ],
      "metadata": {
        "id": "3O1b5M7cptcN"
      }
    },
    {
      "cell_type": "code",
      "source": [
        "name = input('enter your name: ')\n",
        "caste = input(\"enter you last name: \")\n",
        "dob = input ('enter your date of birth: ')\n",
        "\n",
        "print(f\"{name + ' ' + caste} will be {2030-int(dob)} years old in 2030\")"
      ],
      "metadata": {
        "colab": {
          "base_uri": "https://localhost:8080/"
        },
        "id": "be5ZbReF3Ca1",
        "outputId": "506cd1f4-60d8-492e-9fe3-34f22281abee"
      },
      "execution_count": null,
      "outputs": [
        {
          "output_type": "stream",
          "name": "stdout",
          "text": [
            "enter your name: aryan\n",
            "enter you last name: bhattarai\n",
            "enter your date of birth: 2003\n",
            "aryan bhattarai will be 27 years old in 2030\n"
          ]
        }
      ]
    },
    {
      "cell_type": "markdown",
      "source": [
        "\n",
        "formatted string. we can use formatted strings to insert variables in the string. they are like template literals in javascript.\n",
        "syntax: f\"blah blah blah {variable or any logical expression}\"\n"
      ],
      "metadata": {
        "id": "zftWTiVnqUfX"
      }
    },
    {
      "cell_type": "code",
      "source": [
        "print('hello \\n world')"
      ],
      "metadata": {
        "id": "EJqqm7K63U3z",
        "colab": {
          "base_uri": "https://localhost:8080/"
        },
        "outputId": "ea946616-474e-4339-9c1b-e76457739348"
      },
      "execution_count": 2,
      "outputs": [
        {
          "output_type": "stream",
          "name": "stdout",
          "text": [
            "hello \n",
            " world\n"
          ]
        }
      ]
    },
    {
      "cell_type": "markdown",
      "source": [
        "here the backslash is treated as a special character."
      ],
      "metadata": {
        "id": "cn6tAFfQrJ2W"
      }
    },
    {
      "cell_type": "code",
      "source": [
        "print(r\"hello \\n world\")"
      ],
      "metadata": {
        "colab": {
          "base_uri": "https://localhost:8080/"
        },
        "id": "Sq4gRs4gq7d6",
        "outputId": "90c6b660-e616-4842-b258-15a567b2ad8d"
      },
      "execution_count": 3,
      "outputs": [
        {
          "output_type": "stream",
          "name": "stdout",
          "text": [
            "hello \\n world\n"
          ]
        }
      ]
    },
    {
      "cell_type": "markdown",
      "source": [
        "but here the the string is a raw string so the backslash is treated as a normal string.\n"
      ],
      "metadata": {
        "id": "LjT1jYVzrXcN"
      }
    },
    {
      "cell_type": "code",
      "source": [],
      "metadata": {
        "id": "I9Qu4e60rIJz"
      },
      "execution_count": null,
      "outputs": []
    }
  ]
}