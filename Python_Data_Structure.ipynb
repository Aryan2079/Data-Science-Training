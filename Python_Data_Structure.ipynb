{
  "nbformat": 4,
  "nbformat_minor": 0,
  "metadata": {
    "colab": {
      "provenance": [],
      "authorship_tag": "ABX9TyOqfoxqVgvNSsfGklGKUYq4",
      "include_colab_link": true
    },
    "kernelspec": {
      "name": "python3",
      "display_name": "Python 3"
    },
    "language_info": {
      "name": "python"
    }
  },
  "cells": [
    {
      "cell_type": "markdown",
      "metadata": {
        "id": "view-in-github",
        "colab_type": "text"
      },
      "source": [
        "<a href=\"https://colab.research.google.com/github/Aryan2079/Data-Science-Training/blob/main/Python_Data_Structure.ipynb\" target=\"_parent\"><img src=\"https://colab.research.google.com/assets/colab-badge.svg\" alt=\"Open In Colab\"/></a>"
      ]
    },
    {
      "cell_type": "markdown",
      "source": [
        "# Python Data Structure"
      ],
      "metadata": {
        "id": "ZsOqY9jWbSuC"
      }
    },
    {
      "cell_type": "markdown",
      "source": [
        "##LIST\n",
        "\n",
        "## It is just like Array in other programming languages but it can store any type of data"
      ],
      "metadata": {
        "id": "HwBQbxQqdHnC"
      }
    },
    {
      "cell_type": "code",
      "execution_count": 5,
      "metadata": {
        "colab": {
          "base_uri": "https://localhost:8080/"
        },
        "id": "OtMYNGbBYrMv",
        "outputId": "5146ae8b-5571-4372-d2bc-684853622d50"
      },
      "outputs": [
        {
          "output_type": "stream",
          "name": "stdout",
          "text": [
            "4\n"
          ]
        }
      ],
      "source": [
        "demo_list = ['apple','banana','licchii','papaya']\n",
        "type(demo_list)\n",
        "print(len(demo_list))\n"
      ]
    },
    {
      "cell_type": "code",
      "source": [
        "demo_list[::-2]"
      ],
      "metadata": {
        "colab": {
          "base_uri": "https://localhost:8080/"
        },
        "id": "JQ8cLP8Zcobv",
        "outputId": "12b43b48-bdbf-495b-f67f-3526282ed243"
      },
      "execution_count": 10,
      "outputs": [
        {
          "output_type": "execute_result",
          "data": {
            "text/plain": [
              "['papaya', 'banana']"
            ]
          },
          "metadata": {},
          "execution_count": 10
        }
      ]
    },
    {
      "cell_type": "code",
      "source": [
        "demo_arr = [1,3,[4,'apple',['cat','bat']]]\n",
        "print(demo_arr[2][2][1])"
      ],
      "metadata": {
        "colab": {
          "base_uri": "https://localhost:8080/"
        },
        "id": "9HGDsq8qdu3c",
        "outputId": "3c8be7ac-c955-4c35-cd65-1d3076273bee"
      },
      "execution_count": 12,
      "outputs": [
        {
          "output_type": "stream",
          "name": "stdout",
          "text": [
            "bat\n"
          ]
        }
      ]
    },
    {
      "cell_type": "markdown",
      "source": [
        "## APPEND METHOD: the append method directly adds the given element in the last of the list."
      ],
      "metadata": {
        "id": "OMzp0ugagn4d"
      }
    },
    {
      "cell_type": "code",
      "source": [
        "demo_list.append('guava')\n",
        "demo_list"
      ],
      "metadata": {
        "colab": {
          "base_uri": "https://localhost:8080/"
        },
        "id": "qpL7bkHveeaU",
        "outputId": "f4753836-9f82-40a3-b989-d56a1c5ffb35"
      },
      "execution_count": 13,
      "outputs": [
        {
          "output_type": "execute_result",
          "data": {
            "text/plain": [
              "['apple', 'banana', 'licchii', 'papaya', 'guava']"
            ]
          },
          "metadata": {},
          "execution_count": 13
        }
      ]
    },
    {
      "cell_type": "markdown",
      "source": [
        "## INSERT METHOD: insert method we provide the index in which we want to add the element"
      ],
      "metadata": {
        "id": "_3ryP7J2gy3R"
      }
    },
    {
      "cell_type": "code",
      "source": [
        "demo_list.insert(1,'pomogranate')\n",
        "demo_list"
      ],
      "metadata": {
        "colab": {
          "base_uri": "https://localhost:8080/"
        },
        "id": "0oQUNi4zfdyS",
        "outputId": "48bfe115-62bc-46b7-846c-09e13af6bf52"
      },
      "execution_count": 14,
      "outputs": [
        {
          "output_type": "execute_result",
          "data": {
            "text/plain": [
              "['apple', 'pomogranate', 'banana', 'licchii', 'papaya', 'guava']"
            ]
          },
          "metadata": {},
          "execution_count": 14
        }
      ]
    },
    {
      "cell_type": "markdown",
      "source": [
        "## list append exercise"
      ],
      "metadata": {
        "id": "VsIyGj-khT8q"
      }
    },
    {
      "cell_type": "markdown",
      "source": [
        "\n",
        "\n",
        "*   create an old_list ranging from values 1 to 10\n",
        "*   create a blank new_list = []\n",
        "*   loop through the old_list and append only the even numbers to the new_list\n",
        "*   print the new_list\n",
        "\n",
        "\n",
        "\n",
        "\n",
        "\n",
        "\n"
      ],
      "metadata": {
        "id": "xFw7Sgx1iHMs"
      }
    },
    {
      "cell_type": "code",
      "source": [
        "old_list =[1,2,3,4,5,6,7,8,9,10]\n",
        "new_list =[]\n",
        "for item in old_list:\n",
        "  if item%2==0:\n",
        "    new_list.append(item)\n",
        "new_list"
      ],
      "metadata": {
        "colab": {
          "base_uri": "https://localhost:8080/"
        },
        "id": "3gY8XByLhFnQ",
        "outputId": "f0f663fe-9e76-4f3e-b63a-e0840a7f85d2"
      },
      "execution_count": 19,
      "outputs": [
        {
          "output_type": "execute_result",
          "data": {
            "text/plain": [
              "[2, 4, 6, 8, 10]"
            ]
          },
          "metadata": {},
          "execution_count": 19
        }
      ]
    },
    {
      "cell_type": "markdown",
      "source": [
        "## Delete elements from list"
      ],
      "metadata": {
        "id": "zjNDJX46kJEh"
      }
    },
    {
      "cell_type": "markdown",
      "source": [
        "pop and remove are the functions that help us to remove elements from a list.\n",
        "while using pop we provide the index of the element we want to remove.\n",
        "while using remove we provide the element we want to remove.\n",
        "\n",
        "while pop(-1) removes the last element from the list but insert in -1 index adds the elements in the second last element"
      ],
      "metadata": {
        "id": "oP0xuF-WkX49"
      }
    },
    {
      "cell_type": "code",
      "source": [
        "new_list.pop(-1)\n",
        "new_list"
      ],
      "metadata": {
        "colab": {
          "base_uri": "https://localhost:8080/"
        },
        "id": "1WM0F0gXh2yq",
        "outputId": "8bf32ee5-5979-404e-8a3c-ef44e75b0438"
      },
      "execution_count": 22,
      "outputs": [
        {
          "output_type": "execute_result",
          "data": {
            "text/plain": [
              "[2, 8]"
            ]
          },
          "metadata": {},
          "execution_count": 22
        }
      ]
    },
    {
      "cell_type": "code",
      "source": [
        "old_list.remove(3)\n",
        "old_list"
      ],
      "metadata": {
        "colab": {
          "base_uri": "https://localhost:8080/"
        },
        "id": "ofWohwrdjS4_",
        "outputId": "a76b8677-7813-4b66-d864-b3ef1801f309"
      },
      "execution_count": 27,
      "outputs": [
        {
          "output_type": "execute_result",
          "data": {
            "text/plain": [
              "[1, 2, 4, 5, 6, 7, 8, 10]"
            ]
          },
          "metadata": {},
          "execution_count": 27
        }
      ]
    },
    {
      "cell_type": "code",
      "source": [
        "old_list.pop(-1)"
      ],
      "metadata": {
        "colab": {
          "base_uri": "https://localhost:8080/"
        },
        "id": "wVxtby-qj1yp",
        "outputId": "025f6640-35e8-455c-f0da-62f7b036c4e6"
      },
      "execution_count": 28,
      "outputs": [
        {
          "output_type": "execute_result",
          "data": {
            "text/plain": [
              "10"
            ]
          },
          "metadata": {},
          "execution_count": 28
        }
      ]
    },
    {
      "cell_type": "markdown",
      "source": [
        "## DICTIONARY\n",
        "\n",
        "## they are like objects in javascript. they work with key-value pairs.\n",
        "## the value can be anything (any datatype or any other data structure like list, dictionary,etc)"
      ],
      "metadata": {
        "id": "qiYJ1ffAk_vU"
      }
    },
    {
      "cell_type": "code",
      "source": [
        "demo_dict = {'name':'aryan',\n",
        "             'age': 10,\n",
        "             'location': ['biratnagar','kathmandu']}\n",
        "demo_dict"
      ],
      "metadata": {
        "colab": {
          "base_uri": "https://localhost:8080/"
        },
        "id": "D16D0gaBkGck",
        "outputId": "92f58fd1-2af7-458e-b6b2-6ac39603589f"
      },
      "execution_count": 29,
      "outputs": [
        {
          "output_type": "execute_result",
          "data": {
            "text/plain": [
              "{'name': 'aryan', 'age': 10, 'location': ['biratnagar', 'kathmandu']}"
            ]
          },
          "metadata": {},
          "execution_count": 29
        }
      ]
    },
    {
      "cell_type": "code",
      "source": [
        "type(demo_dict)"
      ],
      "metadata": {
        "colab": {
          "base_uri": "https://localhost:8080/"
        },
        "id": "1ZoP3NIcmFUr",
        "outputId": "10302f36-45c2-41cd-e2f5-24d450bf66f0"
      },
      "execution_count": 31,
      "outputs": [
        {
          "output_type": "execute_result",
          "data": {
            "text/plain": [
              "dict"
            ]
          },
          "metadata": {},
          "execution_count": 31
        }
      ]
    },
    {
      "cell_type": "markdown",
      "source": [
        "we can get the values of the dictionary using the index or the get method"
      ],
      "metadata": {
        "id": "08ZyxAiFm7pP"
      }
    },
    {
      "cell_type": "code",
      "source": [
        "demo_dict['name']"
      ],
      "metadata": {
        "colab": {
          "base_uri": "https://localhost:8080/",
          "height": 35
        },
        "id": "Cbqo44Gbmklx",
        "outputId": "8e822624-0b15-4253-b5e1-f239d91c97eb"
      },
      "execution_count": 33,
      "outputs": [
        {
          "output_type": "execute_result",
          "data": {
            "text/plain": [
              "'aryan'"
            ],
            "application/vnd.google.colaboratory.intrinsic+json": {
              "type": "string"
            }
          },
          "metadata": {},
          "execution_count": 33
        }
      ]
    },
    {
      "cell_type": "code",
      "source": [
        "demo_dict.get('name')"
      ],
      "metadata": {
        "colab": {
          "base_uri": "https://localhost:8080/",
          "height": 35
        },
        "id": "0lrqKNuVmqYu",
        "outputId": "2d4a9c7e-af7a-4808-a8c9-ea18472de839"
      },
      "execution_count": 34,
      "outputs": [
        {
          "output_type": "execute_result",
          "data": {
            "text/plain": [
              "'aryan'"
            ],
            "application/vnd.google.colaboratory.intrinsic+json": {
              "type": "string"
            }
          },
          "metadata": {},
          "execution_count": 34
        }
      ]
    },
    {
      "cell_type": "code",
      "source": [
        "demo_dict['location'][1]"
      ],
      "metadata": {
        "colab": {
          "base_uri": "https://localhost:8080/",
          "height": 35
        },
        "id": "ymK6iDfRm6Qk",
        "outputId": "2c23bbe4-8579-40cc-dc22-1f1c42e90902"
      },
      "execution_count": 35,
      "outputs": [
        {
          "output_type": "execute_result",
          "data": {
            "text/plain": [
              "'kathmandu'"
            ],
            "application/vnd.google.colaboratory.intrinsic+json": {
              "type": "string"
            }
          },
          "metadata": {},
          "execution_count": 35
        }
      ]
    },
    {
      "cell_type": "code",
      "source": [
        "demo_dict.get('location')[1]"
      ],
      "metadata": {
        "colab": {
          "base_uri": "https://localhost:8080/",
          "height": 35
        },
        "id": "BKZ2fNMJnhQN",
        "outputId": "f1059a7f-8b11-4c65-f045-e933099997f7"
      },
      "execution_count": 39,
      "outputs": [
        {
          "output_type": "execute_result",
          "data": {
            "text/plain": [
              "'kathmandu'"
            ],
            "application/vnd.google.colaboratory.intrinsic+json": {
              "type": "string"
            }
          },
          "metadata": {},
          "execution_count": 39
        }
      ]
    },
    {
      "cell_type": "markdown",
      "source": [
        "if we want to add a new key-value to the dictionary. we simple give the key in the index and assign the value we want to put. if the key already exists then it will be modified but if the key doesnt exists a new key will be created"
      ],
      "metadata": {
        "id": "vNON7MPtoI6I"
      }
    },
    {
      "cell_type": "code",
      "source": [
        "demo_dict['interest']=['racing', 'coding', 'yapping']\n",
        "demo_dict"
      ],
      "metadata": {
        "colab": {
          "base_uri": "https://localhost:8080/"
        },
        "id": "B94Ggel1ntbm",
        "outputId": "f4bf3ed2-48d7-4a85-fead-df7dccdd6987"
      },
      "execution_count": 41,
      "outputs": [
        {
          "output_type": "execute_result",
          "data": {
            "text/plain": [
              "{'name': 'aryan',\n",
              " 'age': 10,\n",
              " 'location': ['biratnagar', 'kathmandu'],\n",
              " 'interest': ['racing', 'coding', 'yapping']}"
            ]
          },
          "metadata": {},
          "execution_count": 41
        }
      ]
    },
    {
      "cell_type": "markdown",
      "source": [
        "if we want to use the del keyword to delete from the dictionary. del also works for lists"
      ],
      "metadata": {
        "id": "sdNlOUNkoxy-"
      }
    },
    {
      "cell_type": "code",
      "source": [
        "del demo_dict['age']\n",
        "demo_dict"
      ],
      "metadata": {
        "colab": {
          "base_uri": "https://localhost:8080/"
        },
        "id": "wWa2rVsgomR4",
        "outputId": "332aa164-dd68-4477-a5e1-7cd2eb00103b"
      },
      "execution_count": 42,
      "outputs": [
        {
          "output_type": "execute_result",
          "data": {
            "text/plain": [
              "{'name': 'aryan',\n",
              " 'location': ['biratnagar', 'kathmandu'],\n",
              " 'interest': ['racing', 'coding', 'yapping']}"
            ]
          },
          "metadata": {},
          "execution_count": 42
        }
      ]
    },
    {
      "cell_type": "markdown",
      "source": [
        "## DICTIONARY EXERCISE"
      ],
      "metadata": {
        "id": "68QELPk8pRyy"
      }
    },
    {
      "cell_type": "markdown",
      "source": [
        "\n",
        "\n",
        "*   create a dictionary named info with initial data as company: techaxis and loction kumaripati and print the dictionary\n",
        "*   add a new key named description: tech axis and print the dictionary\n",
        "*   add a new key named courses that contains the value in the form of list ['python with data science','python with django','mern stack development'] and print the dictionary\n",
        "*   delete a key description and print the dictionary\n",
        "*   edit the course mern stack development to mern fullstack development and print the dicitonary\n",
        "\n"
      ],
      "metadata": {
        "id": "OpgoQXJ5p1k7"
      }
    },
    {
      "cell_type": "code",
      "source": [
        "info = {'company':'TechAxis',\n",
        "        'location':'kumaripati'}\n",
        "\n",
        "print(info)"
      ],
      "metadata": {
        "colab": {
          "base_uri": "https://localhost:8080/"
        },
        "id": "IR_7oQjHoxPk",
        "outputId": "4cf94f9d-2937-4ef8-d7c1-a94f7441cf0e"
      },
      "execution_count": 43,
      "outputs": [
        {
          "output_type": "stream",
          "name": "stdout",
          "text": [
            "{'company': 'TechAxis', 'location': 'kumaripati'}\n"
          ]
        }
      ]
    },
    {
      "cell_type": "code",
      "source": [
        "info['description']= 'Tech Axis'"
      ],
      "metadata": {
        "id": "db9wyVdmpgmA"
      },
      "execution_count": 44,
      "outputs": []
    },
    {
      "cell_type": "code",
      "source": [
        "info['courses'] = ['python with data science','python with django','mern stack development']\n"
      ],
      "metadata": {
        "id": "HYiWc2r3pnFb"
      },
      "execution_count": 45,
      "outputs": []
    },
    {
      "cell_type": "code",
      "source": [
        "print(info)"
      ],
      "metadata": {
        "colab": {
          "base_uri": "https://localhost:8080/"
        },
        "id": "_FLs6mHApxKZ",
        "outputId": "1bc262be-67e2-461f-c6db-97a34b380f30"
      },
      "execution_count": 46,
      "outputs": [
        {
          "output_type": "stream",
          "name": "stdout",
          "text": [
            "{'company': 'TechAxis', 'location': 'kumaripati', 'description': 'Tech Axis', 'courses': ['python with data science', 'python with django', 'mern stack development']}\n"
          ]
        }
      ]
    },
    {
      "cell_type": "code",
      "source": [
        "del info['description']"
      ],
      "metadata": {
        "id": "7TVUu3Ucpyvb"
      },
      "execution_count": 47,
      "outputs": []
    },
    {
      "cell_type": "code",
      "source": [
        "print(info)"
      ],
      "metadata": {
        "colab": {
          "base_uri": "https://localhost:8080/"
        },
        "id": "qdCZTXooqi3v",
        "outputId": "72ccd3b6-c9e7-41fd-9196-8c1dcae384f1"
      },
      "execution_count": 49,
      "outputs": [
        {
          "output_type": "stream",
          "name": "stdout",
          "text": [
            "{'company': 'TechAxis', 'location': 'kumaripati', 'courses': ['python with data science', 'python with django', 'mern stack development']}\n"
          ]
        }
      ]
    },
    {
      "cell_type": "code",
      "source": [
        "info['courses'][2]='mern full stack development'"
      ],
      "metadata": {
        "id": "mGTCVFFwqjgj"
      },
      "execution_count": 50,
      "outputs": []
    },
    {
      "cell_type": "code",
      "source": [
        "print(info)"
      ],
      "metadata": {
        "colab": {
          "base_uri": "https://localhost:8080/"
        },
        "id": "VYmim6SBq3Ah",
        "outputId": "c864890d-2e1c-49ff-c4b4-47b19458ac63"
      },
      "execution_count": 52,
      "outputs": [
        {
          "output_type": "stream",
          "name": "stdout",
          "text": [
            "{'company': 'TechAxis', 'location': 'kumaripati', 'courses': ['python with data science', 'python with django', 'mern full stack development']}\n"
          ]
        }
      ]
    },
    {
      "cell_type": "code",
      "source": [],
      "metadata": {
        "id": "wJ3ZMfCzq3td"
      },
      "execution_count": null,
      "outputs": []
    }
  ]
}